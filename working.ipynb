{
  "cells": [
    {
      "cell_type": "code",
      "execution_count": null,
      "metadata": {
        "colab": {
          "base_uri": "https://localhost:8080/"
        },
        "id": "twV0dpNIw4lQ",
        "outputId": "30772ca4-8f56-48b9-e49c-fa4b79480ec7"
      },
      "outputs": [],
      "source": [
        "!python save_model.py --weights ./data/yolov4-tiny.weights --output ./checkpoints/yolov4-tiny-416 --model yolov4 --tiny"
      ]
    },
    {
      "cell_type": "code",
      "execution_count": null,
      "metadata": {
        "colab": {
          "base_uri": "https://localhost:8080/"
        },
        "id": "i4Xok1pDxIkQ",
        "outputId": "8273129a-2cf8-4420-bb84-e3e1a0699d61"
      },
      "outputs": [],
      "source": [
        "!python object_tracker.py --weights ./checkpoints/yolov4-tiny-416 --model yolov4 --video ./data/video/test4.mp4 --output ./outputs/tiny4.mp4 --tiny --dont_show"
      ]
    }
  ],
  "metadata": {
    "colab": {
      "provenance": []
    },
    "gpuClass": "standard",
    "kernelspec": {
      "display_name": "Python 3",
      "language": "python",
      "name": "python3"
    },
    "language_info": {
      "codemirror_mode": {
        "name": "ipython",
        "version": 3
      },
      "file_extension": ".py",
      "mimetype": "text/x-python",
      "name": "python",
      "nbconvert_exporter": "python",
      "pygments_lexer": "ipython3",
      "version": "3.9.6"
    },
    "vscode": {
      "interpreter": {
        "hash": "ee58b5fda06124f50ca0d338cbc9b0e4e8b97e203338f74cc0d11b7f43a7579a"
      }
    }
  },
  "nbformat": 4,
  "nbformat_minor": 0
}
