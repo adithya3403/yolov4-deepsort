{
  "cells": [
    {
      "cell_type": "code",
      "execution_count": 3,
      "metadata": {
        "colab": {
          "base_uri": "https://localhost:8080/"
        },
        "id": "7s6KIK2_JfLR",
        "outputId": "01b88e46-72a0-4b03-836d-7a3b32526102"
      },
      "outputs": [
        {
          "name": "stdout",
          "output_type": "stream",
          "text": [
            "| ID | GPU | MEM |\n",
            "------------------\n"
          ]
        }
      ],
      "source": [
        "import GPUtil\n",
        "GPUtil.showUtilization()"
      ]
    },
    {
      "cell_type": "code",
      "execution_count": 4,
      "metadata": {},
      "outputs": [
        {
          "name": "stdout",
          "output_type": "stream",
          "text": [
            "Package                      Version\n",
            "---------------------------- -----------\n",
            "absl-py                      1.2.0\n",
            "anyio                        3.2.0\n",
            "appdirs                      1.4.4\n",
            "argon2-cffi                  20.1.0\n",
            "asgiref                      3.5.0\n",
            "astunparse                   1.6.3\n",
            "async-generator              1.10\n",
            "attrs                        21.2.0\n",
            "autopep8                     1.5.7\n",
            "Babel                        2.9.1\n",
            "backcall                     0.2.0\n",
            "beautifulsoup4               4.9.3\n",
            "black                        21.9b0\n",
            "bleach                       3.3.0\n",
            "cachetools                   5.2.0\n",
            "cattrs                       1.10.0\n",
            "certifi                      2022.6.15.1\n",
            "cffi                         1.14.5\n",
            "chardet                      4.0.0\n",
            "click                        8.0.3\n",
            "colorama                     0.4.4\n",
            "contourpy                    1.0.5\n",
            "cycler                       0.11.0\n",
            "decorator                    5.0.9\n",
            "defusedxml                   0.7.1\n",
            "discord-webhook              0.14.0\n",
            "Django                       4.0.1\n",
            "easydict                     1.9\n",
            "entrypoints                  0.3\n",
            "ffmpeg                       1.4\n",
            "Flask                        2.0.2\n",
            "Flask-PyMongo                2.3.0\n",
            "flatbuffers                  2.0.7\n",
            "fonttools                    4.28.5\n",
            "forex-python                 1.8\n",
            "gast                         0.4.0\n",
            "get-prime-number             0.1\n",
            "google-auth                  2.11.0\n",
            "google-auth-oauthlib         0.4.6\n",
            "google-pasta                 0.2.0\n",
            "GPUtil                       1.4.0\n",
            "grpcio                       1.48.1\n",
            "h5py                         3.7.0\n",
            "idna                         2.10\n",
            "image                        1.5.33\n",
            "importlib-metadata           4.12.0\n",
            "ipykernel                    5.5.5\n",
            "ipynb-py-convert             0.4.6\n",
            "ipython                      7.24.1\n",
            "ipython-genutils             0.2.0\n",
            "ipywidgets                   7.6.3\n",
            "itsdangerous                 2.0.1\n",
            "jedi                         0.18.0\n",
            "Jinja2                       3.0.1\n",
            "joblib                       1.1.0\n",
            "json5                        0.9.5\n",
            "jsonschema                   3.2.0\n",
            "jupyter                      1.0.0\n",
            "jupyter-c-kernel             1.2.2\n",
            "jupyter-client               6.1.12\n",
            "jupyter-console              6.4.0\n",
            "jupyter-core                 4.7.1\n",
            "jupyter-http-over-ws         0.0.8\n",
            "jupyter-server               1.8.0\n",
            "jupyterlab                   3.0.16\n",
            "jupyterlab-pygments          0.1.2\n",
            "jupyterlab-server            2.6.0\n",
            "jupyterlab-widgets           1.0.0\n",
            "keras                        2.10.0\n",
            "Keras-Preprocessing          1.1.2\n",
            "kiwisolver                   1.3.2\n",
            "libclang                     14.0.6\n",
            "lxml                         4.9.1\n",
            "Markdown                     3.4.1\n",
            "MarkupSafe                   2.0.1\n",
            "matlab                       0.1\n",
            "matplotlib                   3.6.0\n",
            "matplotlib-inline            0.1.2\n",
            "matrix-47                    0.1.2\n",
            "matrix-product               1.3\n",
            "mistune                      0.8.4\n",
            "mypy-extensions              0.4.3\n",
            "nbclassic                    0.3.1\n",
            "nbclient                     0.5.3\n",
            "nbconvert                    6.0.7\n",
            "nbformat                     5.1.3\n",
            "nbopen                       0.6\n",
            "nest-asyncio                 1.5.1\n",
            "notebook                     6.4.0\n",
            "numpy                        1.20.3\n",
            "oauthlib                     3.2.1\n",
            "opencv-python                4.6.0.66\n",
            "opt-einsum                   3.3.0\n",
            "p2j                          1.3.2\n",
            "packaging                    20.9\n",
            "panda                        0.3.1\n",
            "pandas                       1.3.4\n",
            "pandocfilters                1.4.3\n",
            "parso                        0.8.2\n",
            "pathspec                     0.9.0\n",
            "pickleshare                  0.7.5\n",
            "Pillow                       9.0.0\n",
            "pip                          22.3.1\n",
            "platformdirs                 2.4.0\n",
            "prometheus-client            0.11.0\n",
            "prompt-toolkit               3.0.19\n",
            "protobuf                     3.19.4\n",
            "py                           1.10.0\n",
            "pyasn1                       0.4.8\n",
            "pyasn1-modules               0.2.8\n",
            "pycodestyle                  2.7.0\n",
            "pycparser                    2.20\n",
            "Pygments                     2.9.0\n",
            "PyJWT                        2.3.0\n",
            "pymongo                      4.0.1\n",
            "pyparsing                    2.4.7\n",
            "PyQRCode                     1.2.1\n",
            "pyrsistent                   0.17.3\n",
            "python-dateutil              2.8.1\n",
            "pytz                         2021.1\n",
            "pywin32                      300\n",
            "pywinpty                     1.1.2\n",
            "pyzmq                        22.1.0\n",
            "qtconsole                    5.1.0\n",
            "QtPy                         1.9.0\n",
            "regex                        2021.10.21\n",
            "requests                     2.25.1\n",
            "requests-cache               0.9.1\n",
            "requests-oauthlib            1.3.1\n",
            "roman                        3.3\n",
            "rsa                          4.9\n",
            "rubik-cube                   0.0.1\n",
            "scikit-learn                 1.0.2\n",
            "scipy                        1.7.3\n",
            "seaborn                      0.11.2\n",
            "Send2Trash                   1.5.0\n",
            "setuptools                   56.0.0\n",
            "simplejson                   3.17.6\n",
            "six                          1.16.0\n",
            "sklearn                      0.0\n",
            "sniffio                      1.2.0\n",
            "soupsieve                    2.2.1\n",
            "sqlparse                     0.4.2\n",
            "style                        1.1.0\n",
            "tensorboard                  2.10.0\n",
            "tensorboard-data-server      0.6.1\n",
            "tensorboard-plugin-wit       1.8.1\n",
            "tensorflow                   2.10.0\n",
            "tensorflow-estimator         2.10.0\n",
            "tensorflow-gpu               2.10.1\n",
            "tensorflow-io-gcs-filesystem 0.27.0\n",
            "termcolor                    1.1.0\n",
            "terminado                    0.10.1\n",
            "testpath                     0.5.0\n",
            "threadpoolctl                3.0.0\n",
            "toml                         0.10.2\n",
            "tomli                        1.2.1\n",
            "tornado                      6.1\n",
            "tqdm                         4.64.1\n",
            "traitlets                    5.0.5\n",
            "twilio                       7.5.1\n",
            "typing-extensions            3.10.0.2\n",
            "tzdata                       2021.5\n",
            "update                       0.0.1\n",
            "url-normalize                1.4.3\n",
            "urllib3                      1.26.5\n",
            "wcwidth                      0.2.5\n",
            "webencodings                 0.5.1\n",
            "websocket-client             1.1.0\n",
            "Werkzeug                     2.0.2\n",
            "wheel                        0.37.1\n",
            "widgetsnbextension           3.5.1\n",
            "wrapt                        1.14.1\n",
            "yapf                         0.31.0\n",
            "zipp                         3.8.1\n"
          ]
        }
      ],
      "source": [
        "!pip list"
      ]
    },
    {
      "cell_type": "code",
      "execution_count": 12,
      "metadata": {
        "colab": {
          "base_uri": "https://localhost:8080/",
          "height": 1000
        },
        "id": "Pt6hlwrcKJqt",
        "outputId": "747b13c0-1fe4-47c2-bd15-07456fb49544"
      },
      "outputs": [
        {
          "name": "stdout",
          "output_type": "stream",
          "text": [
            "Looking in indexes: https://pypi.org/simple, https://us-python.pkg.dev/colab-wheels/public/simple/\n",
            "Collecting tensorflow-gpu==2.3\n",
            "  Downloading tensorflow_gpu-2.3.0-cp38-cp38-manylinux2010_x86_64.whl (320.5 MB)\n",
            "\u001b[K     |████████████████████████████████| 320.5 MB 1.6 kB/s \n",
            "\u001b[?25hRequirement already satisfied: grpcio>=1.8.6 in /usr/local/lib/python3.8/dist-packages (from tensorflow-gpu==2.3) (1.50.0)\n",
            "Requirement already satisfied: protobuf>=3.9.2 in /usr/local/lib/python3.8/dist-packages (from tensorflow-gpu==2.3) (3.19.6)\n",
            "Requirement already satisfied: astunparse==1.6.3 in /usr/local/lib/python3.8/dist-packages (from tensorflow-gpu==2.3) (1.6.3)\n",
            "Collecting tensorflow-estimator<2.4.0,>=2.3.0\n",
            "  Downloading tensorflow_estimator-2.3.0-py2.py3-none-any.whl (459 kB)\n",
            "\u001b[K     |████████████████████████████████| 459 kB 73.5 MB/s \n",
            "\u001b[?25hRequirement already satisfied: six>=1.12.0 in /usr/local/lib/python3.8/dist-packages (from tensorflow-gpu==2.3) (1.15.0)\n",
            "Collecting scipy==1.4.1\n",
            "  Downloading scipy-1.4.1-cp38-cp38-manylinux1_x86_64.whl (26.0 MB)\n",
            "\u001b[K     |████████████████████████████████| 26.0 MB 1.4 MB/s \n",
            "\u001b[?25hRequirement already satisfied: opt-einsum>=2.3.2 in /usr/local/lib/python3.8/dist-packages (from tensorflow-gpu==2.3) (3.3.0)\n",
            "Requirement already satisfied: tensorboard<3,>=2.3.0 in /usr/local/lib/python3.8/dist-packages (from tensorflow-gpu==2.3) (2.9.1)\n",
            "Requirement already satisfied: termcolor>=1.1.0 in /usr/local/lib/python3.8/dist-packages (from tensorflow-gpu==2.3) (2.1.1)\n",
            "Collecting h5py<2.11.0,>=2.10.0\n",
            "  Downloading h5py-2.10.0-cp38-cp38-manylinux1_x86_64.whl (2.9 MB)\n",
            "\u001b[K     |████████████████████████████████| 2.9 MB 62.9 MB/s \n",
            "\u001b[?25hCollecting numpy<1.19.0,>=1.16.0\n",
            "  Downloading numpy-1.18.5-cp38-cp38-manylinux1_x86_64.whl (20.6 MB)\n",
            "\u001b[K     |████████████████████████████████| 20.6 MB 1.2 MB/s \n",
            "\u001b[?25hRequirement already satisfied: wrapt>=1.11.1 in /usr/local/lib/python3.8/dist-packages (from tensorflow-gpu==2.3) (1.14.1)\n",
            "Collecting gast==0.3.3\n",
            "  Downloading gast-0.3.3-py2.py3-none-any.whl (9.7 kB)\n",
            "Requirement already satisfied: absl-py>=0.7.0 in /usr/local/lib/python3.8/dist-packages (from tensorflow-gpu==2.3) (1.3.0)\n",
            "Requirement already satisfied: keras-preprocessing<1.2,>=1.1.1 in /usr/local/lib/python3.8/dist-packages (from tensorflow-gpu==2.3) (1.1.2)\n",
            "Requirement already satisfied: wheel>=0.26 in /usr/local/lib/python3.8/dist-packages (from tensorflow-gpu==2.3) (0.38.4)\n",
            "Requirement already satisfied: google-pasta>=0.1.8 in /usr/local/lib/python3.8/dist-packages (from tensorflow-gpu==2.3) (0.2.0)\n",
            "Requirement already satisfied: tensorboard-plugin-wit>=1.6.0 in /usr/local/lib/python3.8/dist-packages (from tensorboard<3,>=2.3.0->tensorflow-gpu==2.3) (1.8.1)\n",
            "Requirement already satisfied: requests<3,>=2.21.0 in /usr/local/lib/python3.8/dist-packages (from tensorboard<3,>=2.3.0->tensorflow-gpu==2.3) (2.23.0)\n",
            "Requirement already satisfied: setuptools>=41.0.0 in /usr/local/lib/python3.8/dist-packages (from tensorboard<3,>=2.3.0->tensorflow-gpu==2.3) (57.4.0)\n",
            "Requirement already satisfied: google-auth<3,>=1.6.3 in /usr/local/lib/python3.8/dist-packages (from tensorboard<3,>=2.3.0->tensorflow-gpu==2.3) (2.14.1)\n",
            "Requirement already satisfied: markdown>=2.6.8 in /usr/local/lib/python3.8/dist-packages (from tensorboard<3,>=2.3.0->tensorflow-gpu==2.3) (3.4.1)\n",
            "Requirement already satisfied: tensorboard-data-server<0.7.0,>=0.6.0 in /usr/local/lib/python3.8/dist-packages (from tensorboard<3,>=2.3.0->tensorflow-gpu==2.3) (0.6.1)\n",
            "Requirement already satisfied: werkzeug>=1.0.1 in /usr/local/lib/python3.8/dist-packages (from tensorboard<3,>=2.3.0->tensorflow-gpu==2.3) (1.0.1)\n",
            "Requirement already satisfied: google-auth-oauthlib<0.5,>=0.4.1 in /usr/local/lib/python3.8/dist-packages (from tensorboard<3,>=2.3.0->tensorflow-gpu==2.3) (0.4.6)\n",
            "Requirement already satisfied: cachetools<6.0,>=2.0.0 in /usr/local/lib/python3.8/dist-packages (from google-auth<3,>=1.6.3->tensorboard<3,>=2.3.0->tensorflow-gpu==2.3) (5.2.0)\n",
            "Requirement already satisfied: pyasn1-modules>=0.2.1 in /usr/local/lib/python3.8/dist-packages (from google-auth<3,>=1.6.3->tensorboard<3,>=2.3.0->tensorflow-gpu==2.3) (0.2.8)\n",
            "Requirement already satisfied: rsa<5,>=3.1.4 in /usr/local/lib/python3.8/dist-packages (from google-auth<3,>=1.6.3->tensorboard<3,>=2.3.0->tensorflow-gpu==2.3) (4.9)\n",
            "Requirement already satisfied: requests-oauthlib>=0.7.0 in /usr/local/lib/python3.8/dist-packages (from google-auth-oauthlib<0.5,>=0.4.1->tensorboard<3,>=2.3.0->tensorflow-gpu==2.3) (1.3.1)\n",
            "Requirement already satisfied: importlib-metadata>=4.4 in /usr/local/lib/python3.8/dist-packages (from markdown>=2.6.8->tensorboard<3,>=2.3.0->tensorflow-gpu==2.3) (4.13.0)\n",
            "Requirement already satisfied: zipp>=0.5 in /usr/local/lib/python3.8/dist-packages (from importlib-metadata>=4.4->markdown>=2.6.8->tensorboard<3,>=2.3.0->tensorflow-gpu==2.3) (3.10.0)\n",
            "Requirement already satisfied: pyasn1<0.5.0,>=0.4.6 in /usr/local/lib/python3.8/dist-packages (from pyasn1-modules>=0.2.1->google-auth<3,>=1.6.3->tensorboard<3,>=2.3.0->tensorflow-gpu==2.3) (0.4.8)\n",
            "Requirement already satisfied: chardet<4,>=3.0.2 in /usr/local/lib/python3.8/dist-packages (from requests<3,>=2.21.0->tensorboard<3,>=2.3.0->tensorflow-gpu==2.3) (3.0.4)\n",
            "Requirement already satisfied: urllib3!=1.25.0,!=1.25.1,<1.26,>=1.21.1 in /usr/local/lib/python3.8/dist-packages (from requests<3,>=2.21.0->tensorboard<3,>=2.3.0->tensorflow-gpu==2.3) (1.24.3)\n",
            "Requirement already satisfied: certifi>=2017.4.17 in /usr/local/lib/python3.8/dist-packages (from requests<3,>=2.21.0->tensorboard<3,>=2.3.0->tensorflow-gpu==2.3) (2022.9.24)\n",
            "Requirement already satisfied: idna<3,>=2.5 in /usr/local/lib/python3.8/dist-packages (from requests<3,>=2.21.0->tensorboard<3,>=2.3.0->tensorflow-gpu==2.3) (2.10)\n",
            "Requirement already satisfied: oauthlib>=3.0.0 in /usr/local/lib/python3.8/dist-packages (from requests-oauthlib>=0.7.0->google-auth-oauthlib<0.5,>=0.4.1->tensorboard<3,>=2.3.0->tensorflow-gpu==2.3) (3.2.2)\n",
            "Installing collected packages: numpy, tensorflow-estimator, scipy, h5py, gast, tensorflow-gpu\n",
            "  Attempting uninstall: numpy\n",
            "    Found existing installation: numpy 1.21.6\n",
            "    Uninstalling numpy-1.21.6:\n",
            "      Successfully uninstalled numpy-1.21.6\n",
            "  Attempting uninstall: tensorflow-estimator\n",
            "    Found existing installation: tensorflow-estimator 2.9.0\n",
            "    Uninstalling tensorflow-estimator-2.9.0:\n",
            "      Successfully uninstalled tensorflow-estimator-2.9.0\n",
            "  Attempting uninstall: scipy\n",
            "    Found existing installation: scipy 1.7.3\n",
            "    Uninstalling scipy-1.7.3:\n",
            "      Successfully uninstalled scipy-1.7.3\n",
            "  Attempting uninstall: h5py\n",
            "    Found existing installation: h5py 3.1.0\n",
            "    Uninstalling h5py-3.1.0:\n",
            "      Successfully uninstalled h5py-3.1.0\n",
            "  Attempting uninstall: gast\n",
            "    Found existing installation: gast 0.4.0\n",
            "    Uninstalling gast-0.4.0:\n",
            "      Successfully uninstalled gast-0.4.0\n",
            "\u001b[31mERROR: pip's dependency resolver does not currently take into account all the packages that are installed. This behaviour is the source of the following dependency conflicts.\n",
            "xarray-einstats 0.2.2 requires numpy>=1.21, but you have numpy 1.18.5 which is incompatible.\n",
            "tensorflow 2.9.2 requires numpy>=1.20, but you have numpy 1.18.5 which is incompatible.\n",
            "tensorflow 2.9.2 requires tensorflow-estimator<2.10.0,>=2.9.0rc0, but you have tensorflow-estimator 2.3.0 which is incompatible.\n",
            "tables 3.7.0 requires numpy>=1.19.0, but you have numpy 1.18.5 which is incompatible.\n",
            "plotnine 0.8.0 requires numpy>=1.19.0, but you have numpy 1.18.5 which is incompatible.\n",
            "plotnine 0.8.0 requires scipy>=1.5.0, but you have scipy 1.4.1 which is incompatible.\n",
            "jaxlib 0.3.25+cuda11.cudnn805 requires numpy>=1.20, but you have numpy 1.18.5 which is incompatible.\n",
            "jaxlib 0.3.25+cuda11.cudnn805 requires scipy>=1.5, but you have scipy 1.4.1 which is incompatible.\n",
            "jax 0.3.25 requires numpy>=1.20, but you have numpy 1.18.5 which is incompatible.\n",
            "jax 0.3.25 requires scipy>=1.5, but you have scipy 1.4.1 which is incompatible.\n",
            "cupy-cuda11x 11.0.0 requires numpy<1.26,>=1.20, but you have numpy 1.18.5 which is incompatible.\n",
            "cmdstanpy 1.0.8 requires numpy>=1.21, but you have numpy 1.18.5 which is incompatible.\u001b[0m\n",
            "Successfully installed gast-0.3.3 h5py-2.10.0 numpy-1.18.5 scipy-1.4.1 tensorflow-estimator-2.3.0 tensorflow-gpu-2.3.0\n"
          ]
        },
        {
          "data": {
            "application/vnd.colab-display-data+json": {
              "pip_warning": {
                "packages": [
                  "gast",
                  "h5py",
                  "numpy",
                  "scipy",
                  "tensorflow"
                ]
              }
            }
          },
          "metadata": {},
          "output_type": "display_data"
        }
      ],
      "source": [
        "!pip install tensorflow-gpu==2.3"
      ]
    },
    {
      "cell_type": "markdown",
      "metadata": {
        "colab": {
          "base_uri": "https://localhost:8080/"
        },
        "id": "Z67b-h0YKogX",
        "outputId": "dc95cfa5-9d27-4b1c-a793-b7d1f3fce30f"
      },
      "source": [
        "!git clone https://github.com/adithya3403/yolov4-deepsort\n",
        "\n",
        "\n",
        "%cd yolov4-deepsort"
      ]
    },
    {
      "cell_type": "markdown",
      "metadata": {
        "colab": {
          "base_uri": "https://localhost:8080/"
        },
        "id": "JYBjbqTfKuA2",
        "outputId": "b76ab156-8c4f-4bc9-fcf7-4ab04fd69ded"
      },
      "source": [
        "!python save_model.py --weights ./data/yolov4-tiny.weights --output ./checkpoints/yolov4-tiny-416 --model yolov4 --tiny"
      ]
    },
    {
      "cell_type": "markdown",
      "metadata": {
        "colab": {
          "base_uri": "https://localhost:8080/"
        },
        "id": "4wifQy1dK9lP",
        "outputId": "8e5049ad-417d-44c5-9685-34e1359515fb"
      },
      "source": [
        "!python ./object_tracker.py --weights ./checkpoints/yolov4-tiny-416 --model yolov4 --video ./data/video/test4.mp4 --output ./outputs/tiny4.mp4 --tiny --dont_show"
      ]
    }
  ],
  "metadata": {
    "accelerator": "GPU",
    "colab": {
      "provenance": []
    },
    "gpuClass": "standard",
    "kernelspec": {
      "display_name": "Python 3.9.6 64-bit",
      "language": "python",
      "name": "python3"
    },
    "language_info": {
      "name": "python",
      "version": "3.9.6"
    },
    "vscode": {
      "interpreter": {
        "hash": "ee58b5fda06124f50ca0d338cbc9b0e4e8b97e203338f74cc0d11b7f43a7579a"
      }
    }
  },
  "nbformat": 4,
  "nbformat_minor": 0
}
